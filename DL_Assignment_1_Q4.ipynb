{
  "nbformat": 4,
  "nbformat_minor": 0,
  "metadata": {
    "colab": {
      "provenance": []
    },
    "kernelspec": {
      "name": "python3",
      "display_name": "Python 3"
    },
    "language_info": {
      "name": "python"
    }
  },
  "cells": [
    {
      "cell_type": "code",
      "source": [
        "import tensorflow as tf\n",
        "import matplotlib.pyplot as plt\n",
        "from keras.optimizers import RMSprop\n",
        "from keras.models import Sequential\n",
        "from keras.layers import Dense, Dropout"
      ],
      "metadata": {
        "id": "D5eUI2uYsbcy"
      },
      "execution_count": 56,
      "outputs": []
    },
    {
      "cell_type": "code",
      "source": [
        "mnist = tf.keras.datasets.mnist\n",
        "(x_train, y_train), (x_test, y_test) = mnist.load_data()\n",
        "x_train, x_test = x_train/255, x_test/255"
      ],
      "metadata": {
        "id": "TJXxR2wgueOD"
      },
      "execution_count": 57,
      "outputs": []
    },
    {
      "cell_type": "code",
      "source": [
        "model = tf.keras.models.Sequential([\n",
        "                                    tf.keras.layers.Flatten(input_shape = (28, 28)),\n",
        "                                    tf.keras.layers.Dense(128, activation = 'relu'),\n",
        "                                    tf.keras.layers.Dropout(0.2),\n",
        "                                    tf.keras.layers.Dense(64, activation = 'relu'),\n",
        "                                    tf.keras.layers.Dropout(0.2),\n",
        "                                    tf.keras.layers.Dense(32, activation = 'relu'),\n",
        "                                    tf.keras.layers.Dropout(0.2),\n",
        "                                    tf.keras.layers.Dense(10, activation = 'softmax')\n",
        "\n",
        "])\n",
        "\n"
      ],
      "metadata": {
        "id": "mdOMNrgdueQC"
      },
      "execution_count": 74,
      "outputs": []
    },
    {
      "cell_type": "code",
      "source": [
        "model.compile(optimizer= 'adam', \n",
        "              loss = 'sparse_categorical_crossentropy',\n",
        "              metrics = ['accuracy'])"
      ],
      "metadata": {
        "id": "w9A-2jryueSo"
      },
      "execution_count": 75,
      "outputs": []
    },
    {
      "cell_type": "code",
      "source": [
        "history = model.fit(x_train, y_train,\n",
        "                    batch_size=128,\n",
        "                    epochs=20,\n",
        "                    verbose=1,\n",
        "                    validation_data=(x_test, y_test))"
      ],
      "metadata": {
        "colab": {
          "base_uri": "https://localhost:8080/"
        },
        "id": "8QtMhMtvueUu",
        "outputId": "7e230d4c-6041-4172-e202-1c233cafe58e"
      },
      "execution_count": 76,
      "outputs": [
        {
          "output_type": "stream",
          "name": "stdout",
          "text": [
            "Epoch 1/20\n",
            "469/469 [==============================] - 3s 4ms/step - loss: 0.5717 - accuracy: 0.8246 - val_loss: 0.1719 - val_accuracy: 0.9485\n",
            "Epoch 2/20\n",
            "469/469 [==============================] - 2s 5ms/step - loss: 0.2344 - accuracy: 0.9348 - val_loss: 0.1260 - val_accuracy: 0.9619\n",
            "Epoch 3/20\n",
            "469/469 [==============================] - 2s 5ms/step - loss: 0.1796 - accuracy: 0.9512 - val_loss: 0.1037 - val_accuracy: 0.9698\n",
            "Epoch 4/20\n",
            "469/469 [==============================] - 2s 4ms/step - loss: 0.1482 - accuracy: 0.9595 - val_loss: 0.0959 - val_accuracy: 0.9730\n",
            "Epoch 5/20\n",
            "469/469 [==============================] - 2s 4ms/step - loss: 0.1278 - accuracy: 0.9642 - val_loss: 0.0852 - val_accuracy: 0.9750\n",
            "Epoch 6/20\n",
            "469/469 [==============================] - 2s 4ms/step - loss: 0.1153 - accuracy: 0.9677 - val_loss: 0.0844 - val_accuracy: 0.9762\n",
            "Epoch 7/20\n",
            "469/469 [==============================] - 2s 4ms/step - loss: 0.1019 - accuracy: 0.9703 - val_loss: 0.0778 - val_accuracy: 0.9786\n",
            "Epoch 8/20\n",
            "469/469 [==============================] - 3s 5ms/step - loss: 0.0971 - accuracy: 0.9728 - val_loss: 0.0795 - val_accuracy: 0.9779\n",
            "Epoch 9/20\n",
            "469/469 [==============================] - 2s 4ms/step - loss: 0.0873 - accuracy: 0.9752 - val_loss: 0.0777 - val_accuracy: 0.9795\n",
            "Epoch 10/20\n",
            "469/469 [==============================] - 2s 4ms/step - loss: 0.0817 - accuracy: 0.9765 - val_loss: 0.0860 - val_accuracy: 0.9758\n",
            "Epoch 11/20\n",
            "469/469 [==============================] - 2s 4ms/step - loss: 0.0755 - accuracy: 0.9780 - val_loss: 0.0794 - val_accuracy: 0.9791\n",
            "Epoch 12/20\n",
            "469/469 [==============================] - 2s 4ms/step - loss: 0.0735 - accuracy: 0.9785 - val_loss: 0.0763 - val_accuracy: 0.9795\n",
            "Epoch 13/20\n",
            "469/469 [==============================] - 2s 5ms/step - loss: 0.0704 - accuracy: 0.9799 - val_loss: 0.0833 - val_accuracy: 0.9771\n",
            "Epoch 14/20\n",
            "469/469 [==============================] - 2s 5ms/step - loss: 0.0642 - accuracy: 0.9816 - val_loss: 0.0774 - val_accuracy: 0.9786\n",
            "Epoch 15/20\n",
            "469/469 [==============================] - 2s 4ms/step - loss: 0.0619 - accuracy: 0.9825 - val_loss: 0.0846 - val_accuracy: 0.9783\n",
            "Epoch 16/20\n",
            "469/469 [==============================] - 2s 4ms/step - loss: 0.0602 - accuracy: 0.9826 - val_loss: 0.0817 - val_accuracy: 0.9790\n",
            "Epoch 17/20\n",
            "469/469 [==============================] - 2s 4ms/step - loss: 0.0552 - accuracy: 0.9835 - val_loss: 0.0807 - val_accuracy: 0.9802\n",
            "Epoch 18/20\n",
            "469/469 [==============================] - 2s 4ms/step - loss: 0.0559 - accuracy: 0.9835 - val_loss: 0.0823 - val_accuracy: 0.9793\n",
            "Epoch 19/20\n",
            "469/469 [==============================] - 2s 5ms/step - loss: 0.0549 - accuracy: 0.9835 - val_loss: 0.0810 - val_accuracy: 0.9800\n",
            "Epoch 20/20\n",
            "469/469 [==============================] - 2s 4ms/step - loss: 0.0508 - accuracy: 0.9850 - val_loss: 0.0788 - val_accuracy: 0.9805\n"
          ]
        }
      ]
    },
    {
      "cell_type": "code",
      "source": [
        "train_score = model.evaluate(x_train, y_train)\n",
        "print(\"Train loss {:.4f}, Test accuracy {:.2f}%\".format(train_score[0], train_score[1] * 100))"
      ],
      "metadata": {
        "colab": {
          "base_uri": "https://localhost:8080/"
        },
        "id": "IXWxk811uoX8",
        "outputId": "5787c78f-5f23-4ca9-fd6b-4e051fa9f7d4"
      },
      "execution_count": 78,
      "outputs": [
        {
          "output_type": "stream",
          "name": "stdout",
          "text": [
            "1875/1875 [==============================] - 3s 1ms/step - loss: 0.0145 - accuracy: 0.9959\n",
            "Train loss 0.0145, Test accuracy 99.59%\n"
          ]
        }
      ]
    },
    {
      "cell_type": "code",
      "source": [
        "test_score = model.evaluate(x_test, y_test)\n",
        "print(\"Test loss {:.4f}, Test accuracy {:.2f}%\".format(test_score[0], test_score[1] * 100))"
      ],
      "metadata": {
        "colab": {
          "base_uri": "https://localhost:8080/"
        },
        "id": "xDVvLBOquoZw",
        "outputId": "0216e711-9e42-4e84-d5b8-055b1749f1a0"
      },
      "execution_count": 79,
      "outputs": [
        {
          "output_type": "stream",
          "name": "stdout",
          "text": [
            "313/313 [==============================] - 1s 2ms/step - loss: 0.0788 - accuracy: 0.9805\n",
            "Test loss 0.0788, Test accuracy 98.05%\n"
          ]
        }
      ]
    },
    {
      "cell_type": "code",
      "source": [
        "plt.plot(history.history['loss'], label='training loss')\n",
        "plt.plot(history.history['val_loss'], label='test loss')\n",
        "plt.title('Training and Test Loss Curves')\n",
        "plt.xlabel('Training Iterations')\n",
        "plt.ylabel('Loss')\n",
        "plt.legend()\n",
        "plt.show()"
      ],
      "metadata": {
        "colab": {
          "base_uri": "https://localhost:8080/",
          "height": 295
        },
        "id": "d5bMxO6Nuob3",
        "outputId": "f2cc6295-3ffa-4234-e35d-ea8a629a5ba1"
      },
      "execution_count": 80,
      "outputs": [
        {
          "output_type": "display_data",
          "data": {
            "text/plain": [
              "<Figure size 432x288 with 1 Axes>"
            ],
            "image/png": "[encoded data removed]"
          },
          "metadata": {
            "needs_background": "light"
          }
        }
      ]
    }
  ]
}